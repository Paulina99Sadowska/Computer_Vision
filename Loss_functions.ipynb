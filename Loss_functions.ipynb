{
  "nbformat": 4,
  "nbformat_minor": 0,
  "metadata": {
    "colab": {
      "provenance": [],
      "authorship_tag": "ABX9TyPtCaahenACOBdF/FffVC63",
      "include_colab_link": true
    },
    "kernelspec": {
      "name": "python3",
      "display_name": "Python 3"
    },
    "language_info": {
      "name": "python"
    }
  },
  "cells": [
    {
      "cell_type": "markdown",
      "metadata": {
        "id": "view-in-github",
        "colab_type": "text"
      },
      "source": [
        "<a href=\"https://colab.research.google.com/github/Paulina99Sadowska/Computer_Vision/blob/main/Loss_functions.ipynb\" target=\"_parent\"><img src=\"https://colab.research.google.com/assets/colab-badge.svg\" alt=\"Open In Colab\"/></a>"
      ]
    },
    {
      "cell_type": "markdown",
      "source": [
        "## Accurancy\n",
        "\n",
        "$ACC = \\frac{correct}{total} $"
      ],
      "metadata": {
        "id": "IPlJbh4MtQlh"
      }
    },
    {
      "cell_type": "code",
      "execution_count": 4,
      "metadata": {
        "id": "pDc-BRgSs8rb"
      },
      "outputs": [],
      "source": [
        "import numpy as np\n",
        "y_true = np.array([1,0,0,1])\n",
        "y_pred = np.array([1,1,0,1])\n",
        "\n",
        "def accuracy(y_true,y_pred):\n",
        "  correct = 0\n",
        "  for i in range(len(y_pred)):\n",
        "    if y_true[i]== y_pred[i]:\n",
        "      correct += 1\n",
        "\n",
        "  return correct/len(y_pred)\n",
        ""
      ]
    },
    {
      "cell_type": "code",
      "source": [
        "print(accuracy(y_true,y_pred))"
      ],
      "metadata": {
        "colab": {
          "base_uri": "https://localhost:8080/"
        },
        "id": "sRbHTex0uh1F",
        "outputId": "b3344b25-6b58-4c94-d097-766c1d392384"
      },
      "execution_count": 5,
      "outputs": [
        {
          "output_type": "stream",
          "name": "stdout",
          "text": [
            "0.75\n"
          ]
        }
      ]
    },
    {
      "cell_type": "markdown",
      "source": [
        "## Entropy\n",
        "\n",
        "$ Entropy = \\sum_i(p_i) * log(p_i) $"
      ],
      "metadata": {
        "id": "gGx53iEVuoKS"
      }
    },
    {
      "cell_type": "markdown",
      "source": [
        "Entropia charakteryzuje możliwość oddawania informacji przez źródło. Inaczej jest to miara nieokreśloności/niepwności (średnie zdziwienie )"
      ],
      "metadata": {
        "id": "eWUTZ4URye_d"
      }
    },
    {
      "cell_type": "code",
      "source": [
        "def entropy(labels, base = None):\n",
        "  from math import log, e\n",
        "  n_lab = len(labels)\n",
        "\n",
        "#Jeśli długość danych <= 1 to entropia równa 0\n",
        "  if n_lab <= 1:\n",
        "    return 0\n",
        "\n",
        "  #Patrzymy ile mamy wartości unikalnych i jaka jest ich liczba\n",
        "  value, counts = np.unique(labels, return_counts=True)\n",
        "  #Sprawdzamy ile mamy niezerowych prawdopodobieństw\n",
        "  prawdo = counts/n_lab\n",
        "  n_classes = np.count_nonzero(prawdo)\n",
        "\n",
        "  if n_classes <= 1:\n",
        "    return 0\n",
        "\n",
        "  ent = 0\n",
        "\n",
        "  base = e if base is None else base\n",
        "  for i in prawdo:\n",
        "    ent -= i *log(i, base)\n",
        "  return ent\n",
        "\n",
        "lab = [1,3,2,5,2,5,2,3,4,1,2,3,4,1]\n",
        "entropy(lab)\n"
      ],
      "metadata": {
        "colab": {
          "base_uri": "https://localhost:8080/"
        },
        "id": "TL4eLhg4vIXA",
        "outputId": "2fc11e75-24f7-4bcc-859f-66903a4cafa0"
      },
      "execution_count": 9,
      "outputs": [
        {
          "output_type": "execute_result",
          "data": {
            "text/plain": [
              "1.5740973368489728"
            ]
          },
          "metadata": {},
          "execution_count": 9
        }
      ]
    },
    {
      "cell_type": "markdown",
      "source": [
        "## Binary Cross Entropy\n",
        "\n",
        "Funkcja straty używana w klasyfikacji binarnej\n",
        "\n",
        "$BCE = -y_r * log(y_p) - (1-y_r) * log(1-y_p)  $"
      ],
      "metadata": {
        "id": "eFMLm_4ZC95j"
      }
    },
    {
      "cell_type": "code",
      "source": [
        "import numpy as np"
      ],
      "metadata": {
        "id": "UlDVDck7EyRc"
      },
      "execution_count": 16,
      "outputs": []
    },
    {
      "cell_type": "code",
      "source": [
        "def binary_cross_entropy(y_r, y_p):\n",
        "  #Nie może być zera w dzielniu  więc musimy zmodyfikować y_p\n",
        "  #Przycinamy zmienną y_p w taki sposób że tam gdzie jest 0 było 0.000000001\n",
        "  # a gdzie 1 będzie 1-0.000000001\n",
        "  y_p = np.clip(y_p, 0.00001, 1-0.00001 )\n",
        "  return -y_r * np.log(y_p) - (1-y_r) * np.log(1-y_p)\n"
      ],
      "metadata": {
        "id": "m9IZSRB0D2nS"
      },
      "execution_count": 27,
      "outputs": []
    },
    {
      "cell_type": "code",
      "source": [
        "y_r = np.array([1,0,1,1,0,1,0])\n",
        "y_p = np.array([0,0,1,1,0,1,1])\n",
        "\n",
        "binary_cross_entropy(y_r, y_p)\n"
      ],
      "metadata": {
        "colab": {
          "base_uri": "https://localhost:8080/"
        },
        "id": "HSLpEgwJD9q6",
        "outputId": "802c77cd-f428-4609-964b-4f274be7db69"
      },
      "execution_count": 28,
      "outputs": [
        {
          "output_type": "execute_result",
          "data": {
            "text/plain": [
              "array([1.15129255e+01, 1.00000500e-05, 1.00000500e-05, 1.00000500e-05,\n",
              "       1.00000500e-05, 1.00000500e-05, 1.15129255e+01])"
            ]
          },
          "metadata": {},
          "execution_count": 28
        }
      ]
    },
    {
      "cell_type": "markdown",
      "source": [
        "## Categorical Cross Entropy\n",
        "\n",
        "Funkcja straty używana w klasyfikacji binarnej\n",
        "\n",
        "$CCE = - ∑_i(y_r * log(y_p)) $"
      ],
      "metadata": {
        "id": "k-cqyrfUKSst"
      }
    },
    {
      "cell_type": "code",
      "source": [
        "def categorical_cross_entropy(y_r,y_p):\n",
        "  y_p = np.clip(y_p, 0.00001, 1-0.00001 )\n",
        "  return -np.sum(y_r * np.log(y_p))"
      ],
      "metadata": {
        "id": "AZCRRDMhLOli"
      },
      "execution_count": 34,
      "outputs": []
    },
    {
      "cell_type": "code",
      "source": [
        "y_r = np.array([1,0,0,0,0])\n",
        "#prawdopodobienstwa dla klas\n",
        "y_p = np.array([0.4, 0.3, 0.05, 0.05,0.2])\n",
        "\n",
        "categorical_cross_entropy(y_r,y_p)\n"
      ],
      "metadata": {
        "colab": {
          "base_uri": "https://localhost:8080/"
        },
        "id": "K43XzijmLwAF",
        "outputId": "cf0e0b06-7dd2-4ae3-b4cf-ca40f817b572"
      },
      "execution_count": 36,
      "outputs": [
        {
          "output_type": "execute_result",
          "data": {
            "text/plain": [
              "0.916290731874155"
            ]
          },
          "metadata": {},
          "execution_count": 36
        }
      ]
    },
    {
      "cell_type": "code",
      "source": [
        "y_r = np.array([1,0,0,0,0])\n",
        "#prawdopodobienstwa dla klas\n",
        "y_p = np.array([0.95, 0.05, 0.01, 0.01,0.001])\n",
        "\n",
        "\n",
        "categorical_cross_entropy(y_r,y_p)\n"
      ],
      "metadata": {
        "colab": {
          "base_uri": "https://localhost:8080/"
        },
        "id": "zzzjnUU2NxDj",
        "outputId": "42f22826-fc58-4302-c0d9-b65ab4b0475a"
      },
      "execution_count": 37,
      "outputs": [
        {
          "output_type": "execute_result",
          "data": {
            "text/plain": [
              "0.05129329438755058"
            ]
          },
          "metadata": {},
          "execution_count": 37
        }
      ]
    },
    {
      "cell_type": "markdown",
      "source": [
        "Sieć druga jest znacznie lepsza bo wartość funkcji straty jest znacząco mniejsza"
      ],
      "metadata": {
        "id": "skYiTAriNy9T"
      }
    }
  ]
}